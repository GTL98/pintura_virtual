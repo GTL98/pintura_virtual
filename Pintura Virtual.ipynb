{
 "cells": [
  {
   "cell_type": "markdown",
   "metadata": {},
   "source": [
    "***A aula explicando o passo a passo e o módulo para esse projeto estão no diretório: https://github.com/GTL98/curso-completo-de-visao-computacional-avancada-com-python***"
   ]
  },
  {
   "cell_type": "markdown",
   "metadata": {},
   "source": [
    "### Importar as bibliotecas"
   ]
  },
  {
   "cell_type": "code",
   "execution_count": 1,
   "metadata": {},
   "outputs": [],
   "source": [
    "import os\n",
    "import cv2\n",
    "import time\n",
    "import numpy as np\n",
    "import rastreamento_mao as rm"
   ]
  },
  {
   "cell_type": "markdown",
   "metadata": {},
   "source": [
    "### Definir o tamanho da tela"
   ]
  },
  {
   "cell_type": "code",
   "execution_count": 2,
   "metadata": {},
   "outputs": [],
   "source": [
    "largura_tela = 1280\n",
    "altura_tela = 720"
   ]
  },
  {
   "cell_type": "markdown",
   "metadata": {},
   "source": [
    "### Selecionar imagens"
   ]
  },
  {
   "cell_type": "code",
   "execution_count": 3,
   "metadata": {},
   "outputs": [
    {
     "name": "stdout",
     "output_type": "stream",
     "text": [
      "['1.png', '2.png', '3.png', '4.png', '5.png']\n",
      "5\n"
     ]
    }
   ],
   "source": [
    "caminho = 'imagens_prontas'\n",
    "lista_imagens = os.listdir(caminho)\n",
    "print(lista_imagens)\n",
    "lista_fotos = []\n",
    "for caminho_imagem in lista_imagens:\n",
    "    foto = cv2.imread(f'{caminho}/{caminho_imagem}')\n",
    "    lista_fotos.append(foto)\n",
    "print(len(lista_fotos))\n",
    "cabecalho = lista_fotos[0]"
   ]
  },
  {
   "cell_type": "markdown",
   "metadata": {},
   "source": [
    "### Módulo `DetectorMao`"
   ]
  },
  {
   "cell_type": "code",
   "execution_count": 4,
   "metadata": {},
   "outputs": [],
   "source": [
    "detector = rm.DetectorMao(max_maos=1, deteccao_confianca=0.85, rastreamento_confianca=0.85)"
   ]
  },
  {
   "cell_type": "markdown",
   "metadata": {},
   "source": [
    "### Captura de vídeo"
   ]
  },
  {
   "cell_type": "code",
   "execution_count": 5,
   "metadata": {},
   "outputs": [],
   "source": [
    "cap = cv2.VideoCapture(0)\n",
    "cap.set(3, largura_tela)  # 3 para informar a largura\n",
    "cap.set(4, altura_tela)  # 4 para informar a altura\n",
    "\n",
    "cor = (255, 0, 255)\n",
    "\n",
    "espessura_pincel = 15\n",
    "espessura_borracha = 50\n",
    "\n",
    "x_anterior = 0\n",
    "y_anterior = 0\n",
    "\n",
    "# Tela de desenho\n",
    "tela_desenho = np.zeros((720, 1280, 3), np.uint8)\n",
    "\n",
    "while True:\n",
    "    sucesso, imagem = cap.read()\n",
    "    # Inverter a imagem (1 um para horizontal)\n",
    "    imagem = cv2.flip(imagem, 1)\n",
    "    imagem = detector.encontrar_maos(imagem)\n",
    "    lista_landmark = detector.encontrar_posicao(imagem, desenho=False)\n",
    "    \n",
    "    # Pegar as posições das landmarks que usaremos\n",
    "    if lista_landmark:\n",
    "        # Pegar a posição de X e Y da ponta do indicador\n",
    "        x1, y1, = lista_landmark[8][1:]\n",
    "        \n",
    "        # Pegar a posição de X e Y da ponta do dedo médio\n",
    "        x2, y2 = lista_landmark[12][1:]\n",
    "        \n",
    "        # Checar se os dedos estão levantados\n",
    "        dedos = detector.dedos_levantados()\n",
    "        \n",
    "        # Modo de seleção: indicador e médio levantados\n",
    "        if dedos[1] and dedos[2]:\n",
    "            x_anterior, y_anterior = 0, 0\n",
    "            # Verificar se o dedo está indo para o topo da tela\n",
    "            if y1 < 130:\n",
    "                if 40 < x1 < 200:\n",
    "                    cabecalho = lista_fotos[0]  # magenta\n",
    "                    cor = (255, 0, 255)\n",
    "                elif 300 < x1 < 520:\n",
    "                    cabecalho = lista_fotos[1]  # azul\n",
    "                    cor = (255, 0, 0)\n",
    "                elif 570 < x1 < 785:\n",
    "                    cabecalho = lista_fotos[2]  # verde\n",
    "                    cor = (0, 255, 0)\n",
    "                elif 860 < x1 < 990:\n",
    "                    cabecalho = lista_fotos[3]  # amarelo\n",
    "                    cor = (0, 255, 255)\n",
    "                elif 1060 < x1 < 1220:\n",
    "                    cabecalho = lista_fotos[4]  # borracha\n",
    "                    cor = (0, 0, 0)\n",
    "            \n",
    "            cv2.rectangle(imagem, (x1, y1-25), (x2, y2+25), cor, cv2.FILLED)\n",
    "            \n",
    "        # Modo de desenho: indicador levantado e médio abaixado\n",
    "        if dedos[1] and dedos[2] == False:\n",
    "            cv2.circle(imagem, (x1, y1), 15, cor, cv2.FILLED)\n",
    "            if x_anterior == 0 and y_anterior == 0:\n",
    "                x_anterior, y_anterior = x1, y1\n",
    "            \n",
    "            if cor == (0, 0, 0):\n",
    "                cv2.line(imagem, (x_anterior, y_anterior), (x1, y1), cor, espessura_borracha)\n",
    "                cv2.line(tela_desenho, (x_anterior, y_anterior), (x1, y1), cor, espessura_borracha)\n",
    "                \n",
    "            else:\n",
    "                cv2.line(imagem, (x_anterior, y_anterior), (x1, y1), cor, espessura_pincel)\n",
    "                cv2.line(tela_desenho, (x_anterior, y_anterior), (x1, y1), cor, espessura_pincel)\n",
    "                \n",
    "            x_anterior, y_anterior = x1, y1\n",
    "            \n",
    "    # Juntar a tela de captura com a de desenho\n",
    "    imagem_cinza = cv2.cvtColor(tela_desenho, cv2.COLOR_RGB2GRAY)\n",
    "    _, imagem_invertida = cv2.threshold(imagem_cinza, 50, 255, cv2.THRESH_BINARY_INV)\n",
    "    imagem_invertida = cv2.cvtColor(imagem_invertida, cv2.COLOR_GRAY2BGR)\n",
    "    imagem = cv2.bitwise_and(imagem, imagem_invertida)\n",
    "    imagem = cv2.bitwise_or(imagem, tela_desenho)\n",
    "    \n",
    "    # Colocar a foto no topo da tela\n",
    "    imagem[0: 130, 0: 1280] = cabecalho\n",
    "    \n",
    "    # Mostrar a imagem na tela\n",
    "    cv2.imshow('Pintura Virtual', imagem)\n",
    "    \n",
    "    # Terminar o loop\n",
    "    if cv2.waitKey(1) & 0xFF == ord('s'):\n",
    "        break\n",
    "        \n",
    "# Fechar a janela de captura\n",
    "cap.release()\n",
    "cv2.destroyAllWindows()"
   ]
  }
 ],
 "metadata": {
  "kernelspec": {
   "display_name": "Python 3",
   "language": "python",
   "name": "python3"
  },
  "language_info": {
   "codemirror_mode": {
    "name": "ipython",
    "version": 3
   },
   "file_extension": ".py",
   "mimetype": "text/x-python",
   "name": "python",
   "nbconvert_exporter": "python",
   "pygments_lexer": "ipython3",
   "version": "3.8.5"
  }
 },
 "nbformat": 4,
 "nbformat_minor": 4
}
